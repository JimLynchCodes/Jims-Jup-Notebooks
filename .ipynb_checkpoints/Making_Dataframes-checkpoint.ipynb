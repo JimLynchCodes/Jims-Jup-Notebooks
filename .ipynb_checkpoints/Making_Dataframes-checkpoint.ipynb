{
 "cells": [
  {
   "cell_type": "markdown",
   "metadata": {
    "colab_type": "text",
    "id": "YVAPWGi42Akz"
   },
   "source": [
    "# Making Dataframes\n",
    "\n",
    "Examples of making pandas dataframes from data structured in various formats\n",
    "\n",
    "\n",
    "---\n",
    "\n"
   ]
  },
  {
   "cell_type": "code",
   "execution_count": 1,
   "metadata": {
    "colab": {},
    "colab_type": "code",
    "id": "ki36DgYP65oU"
   },
   "outputs": [
    {
     "ename": "ModuleNotFoundError",
     "evalue": "No module named 'pandas'",
     "output_type": "error",
     "traceback": [
      "\u001b[0;31m---------------------------------------------------------------------------\u001b[0m",
      "\u001b[0;31mModuleNotFoundError\u001b[0m                       Traceback (most recent call last)",
      "\u001b[0;32m<ipython-input-1-c0d8e686dfdb>\u001b[0m in \u001b[0;36m<module>\u001b[0;34m\u001b[0m\n\u001b[0;32m----> 1\u001b[0;31m \u001b[0;32mimport\u001b[0m \u001b[0mpandas\u001b[0m \u001b[0;32mas\u001b[0m \u001b[0mpd\u001b[0m\u001b[0;34m\u001b[0m\u001b[0;34m\u001b[0m\u001b[0m\n\u001b[0m\u001b[1;32m      2\u001b[0m \u001b[0;32mimport\u001b[0m \u001b[0mnumpy\u001b[0m \u001b[0;32mas\u001b[0m \u001b[0mnp\u001b[0m\u001b[0;34m\u001b[0m\u001b[0;34m\u001b[0m\u001b[0m\n\u001b[1;32m      3\u001b[0m \u001b[0;32mimport\u001b[0m \u001b[0mjson\u001b[0m\u001b[0;34m\u001b[0m\u001b[0;34m\u001b[0m\u001b[0m\n\u001b[1;32m      4\u001b[0m \u001b[0;34m\u001b[0m\u001b[0m\n\u001b[1;32m      5\u001b[0m \u001b[0;32mimport\u001b[0m \u001b[0msys\u001b[0m\u001b[0;34m\u001b[0m\u001b[0;34m\u001b[0m\u001b[0m\n",
      "\u001b[0;31mModuleNotFoundError\u001b[0m: No module named 'pandas'"
     ]
    }
   ],
   "source": [
    "import pandas as pd\n",
    "import numpy as np\n",
    "import json \n",
    "\n",
    "import sys\n",
    "if sys.version_info[0] < 3: \n",
    "    from StringIO import StringIO\n",
    "else:\n",
    "    from io import StringIO"
   ]
  },
  {
   "cell_type": "markdown",
   "metadata": {
    "colab_type": "text",
    "id": "B_o6H_Q02NyV"
   },
   "source": [
    "# 1. From CSV String"
   ]
  },
  {
   "cell_type": "code",
   "execution_count": 100,
   "metadata": {
    "colab": {
     "base_uri": "https://localhost:8080/",
     "height": 68
    },
    "colab_type": "code",
    "id": "_mfuOxyn2SC0",
    "outputId": "b4e67508-8458-4acc-fa90-867cecb70b02"
   },
   "outputs": [
    {
     "name": "stdout",
     "output_type": "stream",
     "text": [
      "        Name Location  Points\n",
      "0        Bob       NJ      42\n",
      "1      Sally       NY     100\n"
     ]
    }
   ],
   "source": [
    "csv_string = \"Name,Location,Points\\nBob,NJ,42\\nSally,NY,100\"\n",
    "\n",
    "csv_string = StringIO(\n",
    "    \"\"\"\n",
    "    Name,Location,Points\n",
    "    Bob,NJ,42\n",
    "    Sally,NY,100\n",
    "    \"\"\")\n",
    "\n",
    "df = pd.read_csv(csv_string, sep=\",\")\n",
    "\n",
    "print(df)"
   ]
  },
  {
   "cell_type": "markdown",
   "metadata": {
    "colab_type": "text",
    "id": "yywpbyyf2Y6i"
   },
   "source": [
    "# 2) From \"Array of _Labeled_ JSON Objects\"\n",
    "\n",
    "\n",
    "When each object in the the JSON array has a label, id an \"index\". Notice how this _index_ object labeled is added ad the index for each row in the dataframe.\n",
    "\n",
    "Shows making a dataframe from a python dictionary and from a JSON string. \n",
    "\n",
    "Call `read_json` with the `orient` property set to `index`.\n",
    "\n"
   ]
  },
  {
   "cell_type": "code",
   "execution_count": 101,
   "metadata": {
    "colab": {
     "base_uri": "https://localhost:8080/",
     "height": 153
    },
    "colab_type": "code",
    "id": "aVrUkReV2fUk",
    "outputId": "cfbc7d68-2955-4467-de90-816ac90803d7"
   },
   "outputs": [
    {
     "name": "stdout",
     "output_type": "stream",
     "text": [
      "      col 1 col 2\n",
      "row 1     a     b\n",
      "row 2     c     d\n",
      "\n",
      "\n",
      "      col 1 col 2\n",
      "row 1     a     b\n",
      "row 2     c     d\n"
     ]
    }
   ],
   "source": [
    "\n",
    "dictionary_to_json = json.dumps({\"row 1\":{\"col 1\":\"a\",\"col 2\":\"b\"},\"row 2\":{\"col 1\":\"c\",\"col 2\":\"d\"}})\n",
    "\n",
    "string_of_json = '{\"row 1\":{\"col 1\":\"a\",\"col 2\":\"b\"},\"row 2\":{\"col 1\":\"c\",\"col 2\":\"d\"}}'\n",
    "\n",
    "\n",
    "df_from_dictionary = pd.read_json(dict_to_json, orient='index')\n",
    "\n",
    "df_from_string = pd.read_json(string_of_json, orient='index')\n",
    "\n",
    "\n",
    "print(df_from_dictionary)\n",
    "print('\\n')\n",
    "print(df_from_string)\n",
    "\n"
   ]
  },
  {
   "cell_type": "markdown",
   "metadata": {
    "colab_type": "text",
    "id": "Iw2qrGbR2ffZ"
   },
   "source": [
    "# 3) From List of JSON Objects\n",
    "---\n",
    "\n",
    "Call read_json with the orient param set to \"records\". \n",
    "\n"
   ]
  },
  {
   "cell_type": "code",
   "execution_count": 102,
   "metadata": {
    "colab": {
     "base_uri": "https://localhost:8080/",
     "height": 136
    },
    "colab_type": "code",
    "id": "MWRGAzAW2nax",
    "outputId": "5d011c53-ce8d-42de-dab3-27d37b0dffc1"
   },
   "outputs": [
    {
     "name": "stdout",
     "output_type": "stream",
     "text": [
      "  Name Location\n",
      "0    a        b\n",
      "1    c        d\n",
      "\n",
      "\n",
      "  Name Location  Points\n",
      "0  Bob       NJ      42\n"
     ]
    }
   ],
   "source": [
    "list_of_records = json.dumps([{\n",
    "    \"Name\": \"Bob\",\n",
    "    \"Location\": \"NJ\",\n",
    "    \"Points\": 42\n",
    "}])\n",
    "\n",
    "string_of_records = '[{\"Name\":\"a\",\"Location\":\"b\"},{\"Name\":\"c\",\"Location\":\"d\"}]'\n",
    "\n",
    "df_from_string = pd.read_json(string_of_records, orient='records')\n",
    "\n",
    "df_from_list = pd.read_json(list_of_records, orient='records')\n",
    "\n",
    "print(df_from_string)\n",
    "print('\\n')\n",
    "print(df_from_list)\n",
    "\n"
   ]
  },
  {
   "cell_type": "code",
   "execution_count": 0,
   "metadata": {
    "colab": {},
    "colab_type": "code",
    "id": "WvQZr2jAOHlP"
   },
   "outputs": [],
   "source": [
    "d = f"
   ]
  },
  {
   "cell_type": "markdown",
   "metadata": {
    "colab_type": "text",
    "id": "6l0GIVXFOLmR"
   },
   "source": [
    "# 4) From \"CSV-Style Arrays\"\n",
    "\n",
    "Nested arrays where the first contains the columns labels and the rest contain each row's data for all the columns."
   ]
  },
  {
   "cell_type": "code",
   "execution_count": 104,
   "metadata": {
    "colab": {
     "base_uri": "https://localhost:8080/",
     "height": 173
    },
    "colab_type": "code",
    "id": "oqZNwZZUVkuw",
    "outputId": "b17b80ab-5402-4f93-a453-7e0aabd14359"
   },
   "outputs": [
    {
     "data": {
      "text/html": [
       "<div>\n",
       "<style scoped>\n",
       "    .dataframe tbody tr th:only-of-type {\n",
       "        vertical-align: middle;\n",
       "    }\n",
       "\n",
       "    .dataframe tbody tr th {\n",
       "        vertical-align: top;\n",
       "    }\n",
       "\n",
       "    .dataframe thead th {\n",
       "        text-align: right;\n",
       "    }\n",
       "</style>\n",
       "<table border=\"1\" class=\"dataframe\">\n",
       "  <thead>\n",
       "    <tr style=\"text-align: right;\">\n",
       "      <th></th>\n",
       "      <th>Name</th>\n",
       "      <th>Location</th>\n",
       "      <th>Points</th>\n",
       "    </tr>\n",
       "  </thead>\n",
       "  <tbody>\n",
       "    <tr>\n",
       "      <th>0</th>\n",
       "      <td>Bob</td>\n",
       "      <td>NJ</td>\n",
       "      <td>42.0</td>\n",
       "    </tr>\n",
       "    <tr>\n",
       "      <th>1</th>\n",
       "      <td>Sally</td>\n",
       "      <td>NY</td>\n",
       "      <td>4100.0</td>\n",
       "    </tr>\n",
       "    <tr>\n",
       "      <th>2</th>\n",
       "      <td>Jim</td>\n",
       "      <td>Ca Foo</td>\n",
       "      <td>342.2</td>\n",
       "    </tr>\n",
       "    <tr>\n",
       "      <th>3</th>\n",
       "      <td>Tony Gozolez</td>\n",
       "      <td>Oklahoma</td>\n",
       "      <td>5000.0</td>\n",
       "    </tr>\n",
       "  </tbody>\n",
       "</table>\n",
       "</div>"
      ],
      "text/plain": [
       "           Name  Location  Points\n",
       "0           Bob        NJ    42.0\n",
       "1         Sally        NY  4100.0\n",
       "2           Jim    Ca Foo   342.2\n",
       "3  Tony Gozolez  Oklahoma  5000.0"
      ]
     },
     "execution_count": 104,
     "metadata": {
      "tags": []
     },
     "output_type": "execute_result"
    }
   ],
   "source": [
    "row_data_values = [\n",
    "    [\"Name\", \"Location\", \"Points\"],\n",
    "    [\"Bob\", \"NJ\", 42],\n",
    "    [\"Sally\", \"NY\", 4100],\n",
    "    [\"Jim\", \"Ca Foo\", 342.2],\n",
    "    [\"Tony Gozolez\", \"Oklahoma\", 5000]\n",
    "]\n",
    "\n",
    "# Removes element from the original array\n",
    "titles = row_data_values.pop(0)\n",
    "\n",
    "df_from_csv_style_arrays = pd.DataFrame(row_data_values, columns=titles)\n",
    "\n",
    "df_from_csv_style_arrays"
   ]
  },
  {
   "cell_type": "markdown",
   "metadata": {
    "colab_type": "text",
    "id": "ia_kP_32XuCA"
   },
   "source": [
    "# From numpy array is Cool Too!\n",
    "\n"
   ]
  },
  {
   "cell_type": "code",
   "execution_count": 105,
   "metadata": {
    "colab": {
     "base_uri": "https://localhost:8080/",
     "height": 142
    },
    "colab_type": "code",
    "id": "8KOar9X0-QQn",
    "outputId": "6a71a406-5ab5-4b2a-d1cd-2e522e6edceb"
   },
   "outputs": [
    {
     "data": {
      "text/html": [
       "<div>\n",
       "<style scoped>\n",
       "    .dataframe tbody tr th:only-of-type {\n",
       "        vertical-align: middle;\n",
       "    }\n",
       "\n",
       "    .dataframe tbody tr th {\n",
       "        vertical-align: top;\n",
       "    }\n",
       "\n",
       "    .dataframe thead th {\n",
       "        text-align: right;\n",
       "    }\n",
       "</style>\n",
       "<table border=\"1\" class=\"dataframe\">\n",
       "  <thead>\n",
       "    <tr style=\"text-align: right;\">\n",
       "      <th></th>\n",
       "      <th>column1</th>\n",
       "      <th>column2</th>\n",
       "    </tr>\n",
       "  </thead>\n",
       "  <tbody>\n",
       "    <tr>\n",
       "      <th>0</th>\n",
       "      <td>1</td>\n",
       "      <td>2</td>\n",
       "    </tr>\n",
       "    <tr>\n",
       "      <th>1</th>\n",
       "      <td>3</td>\n",
       "      <td>4</td>\n",
       "    </tr>\n",
       "    <tr>\n",
       "      <th>2</th>\n",
       "      <td>10</td>\n",
       "      <td>11</td>\n",
       "    </tr>\n",
       "  </tbody>\n",
       "</table>\n",
       "</div>"
      ],
      "text/plain": [
       "   column1  column2\n",
       "0        1        2\n",
       "1        3        4\n",
       "2       10       11"
      ]
     },
     "execution_count": 105,
     "metadata": {
      "tags": []
     },
     "output_type": "execute_result"
    }
   ],
   "source": [
    "numpy_data = np.array([[1, 2], [3, 4], [10, 11]])\n",
    "df = pd.DataFrame(data=numpy_data, columns=[\"column1\", \"column2\"])\n",
    "\n",
    "df"
   ]
  },
  {
   "cell_type": "markdown",
   "metadata": {
    "colab_type": "text",
    "id": "HUsHwH53ZZvn"
   },
   "source": [
    "# 5) From CSV-Style, \"Columns Oriented Lists\" Add the Transpose"
   ]
  },
  {
   "cell_type": "code",
   "execution_count": 106,
   "metadata": {
    "colab": {
     "base_uri": "https://localhost:8080/",
     "height": 173
    },
    "colab_type": "code",
    "id": "CMk2S7819ygU",
    "outputId": "80c74d7c-ad22-48fd-e5fe-52ae35240b11"
   },
   "outputs": [
    {
     "data": {
      "text/html": [
       "<div>\n",
       "<style scoped>\n",
       "    .dataframe tbody tr th:only-of-type {\n",
       "        vertical-align: middle;\n",
       "    }\n",
       "\n",
       "    .dataframe tbody tr th {\n",
       "        vertical-align: top;\n",
       "    }\n",
       "\n",
       "    .dataframe thead th {\n",
       "        text-align: right;\n",
       "    }\n",
       "</style>\n",
       "<table border=\"1\" class=\"dataframe\">\n",
       "  <thead>\n",
       "    <tr style=\"text-align: right;\">\n",
       "      <th></th>\n",
       "      <th>Name</th>\n",
       "      <th>Location</th>\n",
       "      <th>Points</th>\n",
       "    </tr>\n",
       "  </thead>\n",
       "  <tbody>\n",
       "    <tr>\n",
       "      <th>0</th>\n",
       "      <td>Bob</td>\n",
       "      <td>NJ</td>\n",
       "      <td>100</td>\n",
       "    </tr>\n",
       "    <tr>\n",
       "      <th>1</th>\n",
       "      <td>Sally</td>\n",
       "      <td>NY</td>\n",
       "      <td>42</td>\n",
       "    </tr>\n",
       "    <tr>\n",
       "      <th>2</th>\n",
       "      <td>Jim</td>\n",
       "      <td>California</td>\n",
       "      <td>342.2</td>\n",
       "    </tr>\n",
       "    <tr>\n",
       "      <th>3</th>\n",
       "      <td>Tony Gozolez</td>\n",
       "      <td>Las Vegas</td>\n",
       "      <td>5000</td>\n",
       "    </tr>\n",
       "  </tbody>\n",
       "</table>\n",
       "</div>"
      ],
      "text/plain": [
       "           Name    Location Points\n",
       "0           Bob          NJ    100\n",
       "1         Sally          NY     42\n",
       "2           Jim  California  342.2\n",
       "3  Tony Gozolez   Las Vegas   5000"
      ]
     },
     "execution_count": 106,
     "metadata": {
      "tags": []
     },
     "output_type": "execute_result"
    }
   ],
   "source": [
    "row_data_values = [\n",
    "    [\"Name\", \"Location\", \"Points\"],\n",
    "    [\"Bob\", \"Sally\", \"Jim\", \"Tony Gozolez\"],\n",
    "    [\"NJ\", \"NY\", \"California\", \"Las Vegas\"],\n",
    "    [100, 42, 342.2, 5000]\n",
    "]\n",
    "\n",
    "# Removes element from the original array\n",
    "titles = row_data_values.pop(0)\n",
    "\n",
    "df_from_csv_style_arrays = pd.DataFrame(row_data_values, index=titles).T\n",
    "\n",
    "df_from_csv_style_arrays"
   ]
  }
 ],
 "metadata": {
  "colab": {
   "collapsed_sections": [],
   "name": "Making Dataframes.ipynb",
   "provenance": []
  },
  "kernelspec": {
   "display_name": "Python 3",
   "language": "python",
   "name": "python3"
  },
  "language_info": {
   "codemirror_mode": {
    "name": "ipython",
    "version": 3
   },
   "file_extension": ".py",
   "mimetype": "text/x-python",
   "name": "python",
   "nbconvert_exporter": "python",
   "pygments_lexer": "ipython3",
   "version": "3.7.3"
  }
 },
 "nbformat": 4,
 "nbformat_minor": 1
}
